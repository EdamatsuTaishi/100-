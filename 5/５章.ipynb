{
  "cells": [
    {
      "cell_type": "code",
      "execution_count": null,
      "metadata": {
        "colab": {
          "base_uri": "https://localhost:8080/"
        },
        "id": "atp40wSsS8Oc",
        "outputId": "f6c9bbde-6e84-4d2e-bd60-608996112bb7"
      },
      "outputs": [
        {
          "name": "stdout",
          "output_type": "stream",
          "text": [
            "surface: 人工, base: 人工, pos: 名詞, pos1: 一般\n",
            "surface: 知能, base: 知能, pos: 名詞, pos1: 一般\n",
            "surface: （, base: （, pos: 記号, pos1: 括弧開\n",
            "surface: じん, base: じん, pos: 名詞, pos1: 一般\n",
            "surface: こうち, base: こうち, pos: 名詞, pos1: 一般\n",
            "surface: のう, base: のう, pos: 助詞, pos1: 終助詞\n",
            "surface: 、, base: 、, pos: 記号, pos1: 読点\n",
            "surface: 、, base: 、, pos: 記号, pos1: 読点\n",
            "surface: AI, base: *, pos: 名詞, pos1: 一般\n",
            "surface: 〈, base: 〈, pos: 記号, pos1: 括弧開\n",
            "surface: エーアイ, base: *, pos: 名詞, pos1: 固有名詞\n",
            "surface: 〉, base: 〉, pos: 記号, pos1: 括弧閉\n",
            "surface: ）, base: ）, pos: 記号, pos1: 括弧閉\n",
            "surface: と, base: と, pos: 助詞, pos1: 格助詞\n",
            "surface: は, base: は, pos: 助詞, pos1: 係助詞\n",
            "surface: 、, base: 、, pos: 記号, pos1: 読点\n",
            "surface: 「, base: 「, pos: 記号, pos1: 括弧開\n",
            "surface: 『, base: 『, pos: 記号, pos1: 括弧開\n",
            "surface: 計算, base: 計算, pos: 名詞, pos1: サ変接続\n",
            "surface: （, base: （, pos: 記号, pos1: 括弧開\n",
            "surface: ）, base: ）, pos: 記号, pos1: 括弧閉\n",
            "surface: 』, base: 』, pos: 記号, pos1: 括弧閉\n",
            "surface: という, base: という, pos: 助詞, pos1: 格助詞\n",
            "surface: 概念, base: 概念, pos: 名詞, pos1: 一般\n",
            "surface: と, base: と, pos: 助詞, pos1: 並立助詞\n",
            "surface: 『, base: 『, pos: 記号, pos1: 括弧開\n",
            "surface: コンピュータ, base: コンピュータ, pos: 名詞, pos1: 一般\n",
            "surface: （, base: （, pos: 記号, pos1: 括弧開\n",
            "surface: ）, base: ）, pos: 記号, pos1: 括弧閉\n",
            "surface: 』, base: 』, pos: 記号, pos1: 括弧閉\n",
            "surface: という, base: という, pos: 助詞, pos1: 格助詞\n",
            "surface: 道具, base: 道具, pos: 名詞, pos1: 一般\n",
            "surface: を, base: を, pos: 助詞, pos1: 格助詞\n",
            "surface: 用い, base: 用いる, pos: 動詞, pos1: 自立\n",
            "surface: て, base: て, pos: 助詞, pos1: 接続助詞\n",
            "surface: 『, base: 『, pos: 記号, pos1: 括弧開\n",
            "surface: 知能, base: 知能, pos: 名詞, pos1: 一般\n",
            "surface: 』, base: 』, pos: 記号, pos1: 括弧閉\n",
            "surface: を, base: を, pos: 助詞, pos1: 格助詞\n",
            "surface: 研究, base: 研究, pos: 名詞, pos1: サ変接続\n",
            "surface: する, base: する, pos: 動詞, pos1: 自立\n",
            "surface: 計算, base: 計算, pos: 名詞, pos1: サ変接続\n",
            "surface: 機, base: 機, pos: 名詞, pos1: 接尾\n",
            "surface: 科学, base: 科学, pos: 名詞, pos1: 一般\n",
            "surface: （, base: （, pos: 記号, pos1: 括弧開\n",
            "surface: ）, base: ）, pos: 記号, pos1: 括弧閉\n",
            "surface: の, base: の, pos: 助詞, pos1: 連体化\n",
            "surface: 一, base: 一, pos: 名詞, pos1: 数\n",
            "surface: 分野, base: 分野, pos: 名詞, pos1: 一般\n",
            "surface: 」, base: 」, pos: 記号, pos1: 括弧閉\n",
            "surface: を, base: を, pos: 助詞, pos1: 格助詞\n",
            "surface: 指す, base: 指す, pos: 動詞, pos1: 自立\n",
            "surface: 語, base: 語, pos: 名詞, pos1: 一般\n",
            "surface: 。, base: 。, pos: 記号, pos1: 句点\n",
            "surface: 「, base: 「, pos: 記号, pos1: 括弧開\n",
            "surface: 言語, base: 言語, pos: 名詞, pos1: 一般\n",
            "surface: の, base: の, pos: 助詞, pos1: 連体化\n",
            "surface: 理解, base: 理解, pos: 名詞, pos1: サ変接続\n",
            "surface: や, base: や, pos: 助詞, pos1: 並立助詞\n",
            "surface: 推論, base: 推論, pos: 名詞, pos1: サ変接続\n",
            "surface: 、, base: 、, pos: 記号, pos1: 読点\n",
            "surface: 問題, base: 問題, pos: 名詞, pos1: ナイ形容詞語幹\n",
            "surface: 解決, base: 解決, pos: 名詞, pos1: サ変接続\n",
            "surface: など, base: など, pos: 助詞, pos1: 副助詞\n",
            "surface: の, base: の, pos: 助詞, pos1: 連体化\n",
            "surface: 知的, base: 知的, pos: 名詞, pos1: 一般\n",
            "surface: 行動, base: 行動, pos: 名詞, pos1: サ変接続\n",
            "surface: を, base: を, pos: 助詞, pos1: 格助詞\n",
            "surface: 人間, base: 人間, pos: 名詞, pos1: 一般\n",
            "surface: に, base: に, pos: 助詞, pos1: 格助詞\n",
            "surface: 代わっ, base: 代わる, pos: 動詞, pos1: 自立\n",
            "surface: て, base: て, pos: 助詞, pos1: 接続助詞\n",
            "surface: コンピューター, base: コンピューター, pos: 名詞, pos1: 一般\n",
            "surface: に, base: に, pos: 助詞, pos1: 格助詞\n",
            "surface: 行わ, base: 行う, pos: 動詞, pos1: 自立\n",
            "surface: せる, base: せる, pos: 動詞, pos1: 接尾\n",
            "surface: 技術, base: 技術, pos: 名詞, pos1: 一般\n",
            "surface: 」, base: 」, pos: 記号, pos1: 括弧閉\n",
            "surface: 、, base: 、, pos: 記号, pos1: 読点\n",
            "surface: または, base: または, pos: 接続詞, pos1: *\n",
            "surface: 、, base: 、, pos: 記号, pos1: 読点\n",
            "surface: 「, base: 「, pos: 記号, pos1: 括弧開\n",
            "surface: 計算, base: 計算, pos: 名詞, pos1: サ変接続\n",
            "surface: 機, base: 機, pos: 名詞, pos1: 接尾\n",
            "surface: （, base: （, pos: 記号, pos1: 括弧開\n",
            "surface: コンピュータ, base: コンピュータ, pos: 名詞, pos1: 一般\n",
            "surface: ）, base: ）, pos: 記号, pos1: 括弧閉\n",
            "surface: による, base: による, pos: 助詞, pos1: 格助詞\n",
            "surface: 知的, base: 知的, pos: 名詞, pos1: 形容動詞語幹\n",
            "surface: な, base: だ, pos: 助動詞, pos1: *\n",
            "surface: 情報処理, base: 情報処理, pos: 名詞, pos1: 一般\n",
            "surface: システム, base: システム, pos: 名詞, pos1: 一般\n",
            "surface: の, base: の, pos: 助詞, pos1: 連体化\n",
            "surface: 設計, base: 設計, pos: 名詞, pos1: サ変接続\n",
            "surface: や, base: や, pos: 助詞, pos1: 並立助詞\n",
            "surface: 実現, base: 実現, pos: 名詞, pos1: サ変接続\n",
            "surface: に関する, base: に関する, pos: 助詞, pos1: 格助詞\n",
            "surface: 研究, base: 研究, pos: 名詞, pos1: サ変接続\n",
            "surface: 分野, base: 分野, pos: 名詞, pos1: 一般\n",
            "surface: 」, base: 」, pos: 記号, pos1: 括弧閉\n",
            "surface: と, base: と, pos: 助詞, pos1: 格助詞\n",
            "surface: も, base: も, pos: 助詞, pos1: 係助詞\n",
            "surface: さ, base: する, pos: 動詞, pos1: 自立\n",
            "surface: れる, base: れる, pos: 動詞, pos1: 接尾\n",
            "surface: 。, base: 。, pos: 記号, pos1: 句点\n"
          ]
        }
      ],
      "source": [
        "#40\n",
        "class Morph: #class定義\n",
        "    def __init__(self, txt):\n",
        "        col1 = txt.split('\\t') #tab切り\n",
        "        col2 = col1[1].rstrip().split(',') #右側を,切り\n",
        "\n",
        "        #変数定義\n",
        "        self.surface = col1[0]\n",
        "        self.base = col2[6]\n",
        "        self.pos = col2[0]\n",
        "        self.pos1 = col2[1]\n",
        "\n",
        "    def __str__(self): #文字列を返す\n",
        "        return 'surface: {}, base: {}, pos: {}, pos1: {}'.format(self.surface, self.base, self.pos, self.pos1)\n",
        "\n",
        "    def __repr__(self):#surfaceを返す\n",
        "        return self.surface\n",
        "\n",
        "file_path = '/content/ai.ja.txt.parsed'\n",
        "morphs = []#文単位\n",
        "morph = []#現在処理中\n",
        "with open(file_path, 'r', encoding='utf-8') as f:\n",
        "    for row in f:\n",
        "        if row.startswith('*'): #'*'で始まる行はスキップ\n",
        "            continue\n",
        "        elif row == 'EOS\\n':#最後まで行くとmorphをmorphsに挿入\n",
        "            if len(morph): #morphが存在している。\n",
        "                morphs.append(morph)\n",
        "                morph = []\n",
        "        else:#形態素が存在\n",
        "            morph.append(Morph(row))\n",
        "if len(morph):#もし残っていたら追加\n",
        "    morphs.append(morph)\n",
        "\n",
        "for morph in morphs[1]:\n",
        "    print(morph)"
      ]
    },
    {
      "cell_type": "code",
      "execution_count": null,
      "metadata": {
        "id": "TQVan950Tg8M"
      },
      "outputs": [],
      "source": []
    },
    {
      "cell_type": "code",
      "execution_count": null,
      "metadata": {
        "colab": {
          "base_uri": "https://localhost:8080/"
        },
        "id": "Fe3gz2LfOXQn",
        "outputId": "254dd903-13ef-4e8b-dc45-545ba32892b6"
      },
      "outputs": [
        {
          "name": "stdout",
          "output_type": "stream",
          "text": [
            "{'morphs': [人工, 知能], 'dst': 17, 'srcs': []}\n",
            "{'morphs': [（, じん, こうち, のう, 、, 、], 'dst': 17, 'srcs': []}\n",
            "{'morphs': [AI], 'dst': 3, 'srcs': []}\n",
            "{'morphs': [〈, エーアイ, 〉, ）, と, は, 、], 'dst': 17, 'srcs': [2]}\n",
            "{'morphs': [「, 『, 計算], 'dst': 5, 'srcs': []}\n",
            "{'morphs': [（, ）, 』, という], 'dst': 9, 'srcs': [4]}\n",
            "{'morphs': [概念, と], 'dst': 9, 'srcs': []}\n",
            "{'morphs': [『, コンピュータ], 'dst': 8, 'srcs': []}\n",
            "{'morphs': [（, ）, 』, という], 'dst': 9, 'srcs': [7]}\n",
            "{'morphs': [道具, を], 'dst': 10, 'srcs': [5, 6, 8]}\n",
            "{'morphs': [用い, て], 'dst': 12, 'srcs': [9]}\n",
            "{'morphs': [『, 知能, 』, を], 'dst': 12, 'srcs': []}\n",
            "{'morphs': [研究, する], 'dst': 13, 'srcs': [10, 11]}\n",
            "{'morphs': [計算, 機, 科学], 'dst': 14, 'srcs': [12]}\n",
            "{'morphs': [（, ）, の], 'dst': 15, 'srcs': [13]}\n",
            "{'morphs': [一, 分野, 」, を], 'dst': 16, 'srcs': [14]}\n",
            "{'morphs': [指す], 'dst': 17, 'srcs': [15]}\n",
            "{'morphs': [語, 。], 'dst': 34, 'srcs': [0, 1, 3, 16]}\n",
            "{'morphs': [「, 言語, の], 'dst': 20, 'srcs': []}\n",
            "{'morphs': [理解, や], 'dst': 20, 'srcs': []}\n",
            "{'morphs': [推論, 、], 'dst': 21, 'srcs': [18, 19]}\n",
            "{'morphs': [問題, 解決, など, の], 'dst': 22, 'srcs': [20]}\n",
            "{'morphs': [知的, 行動, を], 'dst': 24, 'srcs': [21]}\n",
            "{'morphs': [人間, に], 'dst': 24, 'srcs': []}\n",
            "{'morphs': [代わっ, て], 'dst': 26, 'srcs': [22, 23]}\n",
            "{'morphs': [コンピューター, に], 'dst': 26, 'srcs': []}\n",
            "{'morphs': [行わ, せる], 'dst': 27, 'srcs': [24, 25]}\n",
            "{'morphs': [技術, 」, 、, または, 、], 'dst': 34, 'srcs': [26]}\n",
            "{'morphs': [「, 計算, 機], 'dst': 29, 'srcs': []}\n",
            "{'morphs': [（, コンピュータ, ）, による], 'dst': 31, 'srcs': [28]}\n",
            "{'morphs': [知的, な], 'dst': 31, 'srcs': []}\n",
            "{'morphs': [情報処理, システム, の], 'dst': 33, 'srcs': [29, 30]}\n",
            "{'morphs': [設計, や], 'dst': 33, 'srcs': []}\n",
            "{'morphs': [実現, に関する], 'dst': 34, 'srcs': [31, 32]}\n",
            "{'morphs': [研究, 分野, 」, と, も], 'dst': 35, 'srcs': [17, 27, 33]}\n",
            "{'morphs': [さ, れる, 。], 'dst': -1, 'srcs': [34]}\n"
          ]
        }
      ],
      "source": [
        "#41\n",
        "class Chunk:\n",
        "    def __init__(self, morphs, dst):\n",
        "        self.morphs = morphs #形態素リスト\n",
        "        self.dst = dst #係り先文節インデックス番号\n",
        "        self.srcs = []#係り元文節インデックス番号\n",
        "\n",
        "\n",
        "sentences = []\n",
        "chunks = []\n",
        "morphs = []\n",
        "with open(file_path, 'r', encoding='utf-8') as f:\n",
        "    for row in f:\n",
        "        if row.startswith('*'):\n",
        "            if len(morphs):\n",
        "                chunks.append(Chunk(morphs, dst))\n",
        "            morphs = []\n",
        "            cols = row.split()\n",
        "            dst = int(cols[2].rstrip('D'))\n",
        "        elif row != 'EOS\\n':\n",
        "            morphs.append(Morph(row))\n",
        "        else:\n",
        "            if len(morphs):\n",
        "                chunks.append(Chunk(morphs, dst))\n",
        "            morphs = []\n",
        "            if len(chunks):\n",
        "                for i, chunk in enumerate(chunks):\n",
        "                    dst = chunk.dst\n",
        "                    if dst != -1:\n",
        "                        chunks[dst].srcs.append(i)\n",
        "                sentences.append(chunks)\n",
        "            chunks = []\n",
        "\n",
        "for chunk in sentences[1]:\n",
        "    print(vars(chunk))"
      ]
    },
    {
      "cell_type": "code",
      "execution_count": null,
      "metadata": {
        "id": "kln7hLxhObAg"
      },
      "outputs": [],
      "source": []
    },
    {
      "cell_type": "code",
      "execution_count": null,
      "metadata": {
        "colab": {
          "base_uri": "https://localhost:8080/"
        },
        "id": "-y6-GV5XObBv",
        "outputId": "59a9b718-c2c2-4da7-ef9d-1d2cc49124d3"
      },
      "outputs": [
        {
          "name": "stdout",
          "output_type": "stream",
          "text": [
            "人工知能\t語\n",
            "じんこうちのう\t語\n",
            "AI\tエーアイとは\n",
            "エーアイとは\t語\n",
            "計算\tという\n",
            "という\t道具を\n",
            "概念と\t道具を\n",
            "コンピュータ\tという\n",
            "という\t道具を\n",
            "道具を\t用いて\n",
            "用いて\t研究する\n",
            "知能を\t研究する\n",
            "研究する\t計算機科学\n",
            "計算機科学\tの\n",
            "の\t一分野を\n",
            "一分野を\t指す\n",
            "指す\t語\n",
            "語\t研究分野とも\n",
            "言語の\t推論\n",
            "理解や\t推論\n",
            "推論\t問題解決などの\n",
            "問題解決などの\t知的行動を\n",
            "知的行動を\t代わって\n",
            "人間に\t代わって\n",
            "代わって\t行わせる\n",
            "コンピューターに\t行わせる\n",
            "行わせる\t技術または\n",
            "技術または\t研究分野とも\n",
            "計算機\tコンピュータによる\n",
            "コンピュータによる\t情報処理システムの\n",
            "知的な\t情報処理システムの\n",
            "情報処理システムの\t実現に関する\n",
            "設計や\t実現に関する\n",
            "実現に関する\t研究分野とも\n",
            "研究分野とも\tされる\n"
          ]
        }
      ],
      "source": [
        "\n",
        "#42\n",
        "def print_mods(sentence):\n",
        "    for chunk in sentence:\n",
        "        if chunk.dst != -1:\n",
        "            modifier = ''.join([x.surface if x.pos != '記号' else '' for x in chunk.morphs])\n",
        "            modifiee = ''.join([x.surface if x.pos != '記号' else '' for x in sentence[chunk.dst].morphs])\n",
        "            print(modifier, modifiee, sep='\\t')\n",
        "\n",
        "print_mods(sentences[1])"
      ]
    },
    {
      "cell_type": "code",
      "execution_count": null,
      "metadata": {
        "colab": {
          "base_uri": "https://localhost:8080/"
        },
        "id": "_Yg6trMYsuaG",
        "outputId": "503df024-73e7-4341-b612-fd3d6103b109"
      },
      "outputs": [
        {
          "name": "stdout",
          "output_type": "stream",
          "text": [
            "道具を\t用いて\n",
            "知能を\t研究する\n",
            "一分野を\t指す\n",
            "知的行動を\t代わって\n",
            "人間に\t代わって\n",
            "コンピューターに\t行わせる\n",
            "研究分野とも\tされる\n"
          ]
        }
      ],
      "source": [
        "#43\n",
        "def print_mods_n2v(sentence):\n",
        "    for chunk in sentence:\n",
        "        if chunk.dst != -1:\n",
        "            modifier_pos = [x.pos for x in chunk.morphs]\n",
        "            modifiee_pos = [x.pos for x in sentence[chunk.dst].morphs]\n",
        "            if '名詞' in modifier_pos and '動詞' in modifiee_pos:\n",
        "                modifier = ''.join([x.surface if x.pos != '記号' else '' for x in chunk.morphs])\n",
        "                modifiee = ''.join([x.surface if x.pos != '記号' else '' for x in sentence[chunk.dst].morphs])\n",
        "                print(modifier, modifiee, sep='\\t')\n",
        "\n",
        "print_mods_n2v(sentences[1])"
      ]
    },
    {
      "cell_type": "code",
      "execution_count": null,
      "metadata": {
        "colab": {
          "base_uri": "https://localhost:8080/"
        },
        "id": "p4yv8pMTusEU",
        "outputId": "82dbb7fb-b5c0-4360-da32-15181ba5b421"
      },
      "outputs": [
        {
          "name": "stdout",
          "output_type": "stream",
          "text": [
            "Requirement already satisfied: graphviz in /usr/local/lib/python3.11/dist-packages (0.20.3)\n",
            "Reading package lists... Done\n",
            "Building dependency tree... Done\n",
            "Reading state information... Done\n",
            "The following additional packages will be installed:\n",
            "  fonts-ipafont-mincho\n",
            "The following NEW packages will be installed:\n",
            "  fonts-ipafont-gothic fonts-ipafont-mincho\n",
            "0 upgraded, 2 newly installed, 0 to remove and 49 not upgraded.\n",
            "Need to get 8,237 kB of archives.\n",
            "After this operation, 28.7 MB of additional disk space will be used.\n",
            "Get:1 http://archive.ubuntu.com/ubuntu jammy/universe amd64 fonts-ipafont-gothic all 00303-21ubuntu1 [3,513 kB]\n",
            "Get:2 http://archive.ubuntu.com/ubuntu jammy/universe amd64 fonts-ipafont-mincho all 00303-21ubuntu1 [4,724 kB]\n",
            "Fetched 8,237 kB in 1s (16.2 MB/s)\n",
            "Selecting previously unselected package fonts-ipafont-gothic.\n",
            "(Reading database ... 124574 files and directories currently installed.)\n",
            "Preparing to unpack .../fonts-ipafont-gothic_00303-21ubuntu1_all.deb ...\n",
            "Unpacking fonts-ipafont-gothic (00303-21ubuntu1) ...\n",
            "Selecting previously unselected package fonts-ipafont-mincho.\n",
            "Preparing to unpack .../fonts-ipafont-mincho_00303-21ubuntu1_all.deb ...\n",
            "Unpacking fonts-ipafont-mincho (00303-21ubuntu1) ...\n",
            "Setting up fonts-ipafont-mincho (00303-21ubuntu1) ...\n",
            "update-alternatives: using /usr/share/fonts/opentype/ipafont-mincho/ipam.ttf to provide /usr/share/fonts/truetype/fonts-japanese-mincho.ttf (fonts-japanese-mincho.ttf) in auto mode\n",
            "Setting up fonts-ipafont-gothic (00303-21ubuntu1) ...\n",
            "update-alternatives: using /usr/share/fonts/opentype/ipafont-gothic/ipag.ttf to provide /usr/share/fonts/truetype/fonts-japanese-gothic.ttf (fonts-japanese-gothic.ttf) in auto mode\n",
            "Processing triggers for fontconfig (2.13.1-4.2ubuntu5) ...\n"
          ]
        }
      ],
      "source": [
        "#44\n",
        "\n",
        "!pip install graphviz\n",
        "!apt install fonts-ipafont-gothic\n",
        "import graphviz\n",
        "\n",
        "def plot_tree(sentence):\n",
        "    g = graphviz.Digraph(format='png', filename='./input/section5/ans44')\n",
        "    g.attr('node', fontname=\"IPAGothic\") # 日本語対応\n",
        "    for i, chunk in enumerate(sentence):\n",
        "        if chunk.dst != -1:\n",
        "            modifier = ''.join([x.surface if x.pos != '記号' else '' for x in chunk.morphs]) + '({})'.format(i)\n",
        "            modifiee = ''.join([x.surface if x.pos != '記号' else '' for x in sentence[chunk.dst].morphs]) + '({})'.format(chunk.dst)\n",
        "            g.edge(modifier, modifiee)\n",
        "    g.view()\n",
        "\n",
        "plot_tree(sentences[2])"
      ]
    },
    {
      "cell_type": "code",
      "execution_count": null,
      "metadata": {
        "colab": {
          "base_uri": "https://localhost:8080/"
        },
        "id": "EP3QjsQ5xMvc",
        "outputId": "13e3451a-a5fb-43ea-b4e2-8e20d7b3f749"
      },
      "outputs": [
        {
          "name": "stdout",
          "output_type": "stream",
          "text": [
            "Tree diagram saved as output_tree.png\n"
          ]
        }
      ],
      "source": [
        "from graphviz import Digraph\n",
        "\n",
        "def plot_tree(sentence):\n",
        "    g = Digraph(format='png')\n",
        "    g.attr('node', shape='ellipse', fontname='Meiryo UI')  # 日本語フォントを指定\n",
        "\n",
        "    # 文節と依存関係の例\n",
        "    sentence = [\n",
        "        {\"text\": \"私は\", \"dst\": 1},\n",
        "        {\"text\": \"りんごを\", \"dst\": 2},\n",
        "        {\"text\": \"食べます\", \"dst\": -1}\n",
        "    ]\n",
        "\n",
        "    for i, chunk in enumerate(sentence):\n",
        "        if chunk['dst'] != -1:\n",
        "            # ノードのテキストを日本語で設定\n",
        "            modifier = f'{chunk[\"text\"]}({i})'\n",
        "            modifiee = f'{sentence[chunk[\"dst\"]][\"text\"]}({chunk[\"dst\"]})'\n",
        "            g.edge(modifier, modifiee)\n",
        "\n",
        "    # 日本語が表示される画像ファイルを出力\n",
        "    g.render('output_tree', format='png', cleanup=True)\n",
        "    print(\"Tree diagram saved as output_tree.png\")\n",
        "\n",
        "# 実行\n",
        "plot_tree([])\n"
      ]
    },
    {
      "cell_type": "code",
      "execution_count": null,
      "metadata": {
        "colab": {
          "base_uri": "https://localhost:8080/"
        },
        "id": "pLsdBpOWu89m",
        "outputId": "71769a0a-2e0a-408a-b083-9ab38f170f7a"
      },
      "outputs": [
        {
          "name": "stdout",
          "output_type": "stream",
          "text": [
            "する\tを 49\n",
            "する\tが 19\n",
            "する\tと 15\n",
            "する\tに 15\n",
            "する\tは を 12\n",
            "する\tに を 10\n",
            "する\tで を 9\n",
            "よる\tに 9\n",
            "行う\tを 8\n",
            "する\tが に 8\n",
            "呼ぶ\tと 6\n",
            "基づく\tに 6\n",
            "する\tと は 6\n",
            "する\tと を 5\n",
            "ある\tが 5\n",
            "する\tに は を 5\n",
            "する\tが を 5\n",
            "用いる\tを 4\n",
            "する\tて を 4\n",
            "する\tて と 4\n",
            "------------行う----------------\n",
            "行う\tを 8\n",
            "行う\tて に 1\n",
            "行う\tに を 1\n",
            "行う\tが て で に は 1\n",
            "行う\tは を 1\n",
            "行う\tに 1\n",
            "行う\tに により を 1\n",
            "行う\tて に を 1\n",
            "行う\tて に は 1\n",
            "行う\tから 1\n",
            "行う\tで に を 1\n",
            "行う\tで を 1\n",
            "行う\tて を 1\n",
            "行う\tに まで を 1\n",
            "行う\tが で は 1\n",
            "行う\tが で に は 1\n",
            "行う\tは を をめぐって 1\n",
            "行う\tまで を 1\n",
            "------------なる----------------\n",
            "なる\tが と 3\n",
            "なる\tに は 3\n",
            "なる\tに 2\n",
            "なる\tと 2\n",
            "なる\tで と など は 1\n",
            "なる\tが て と 1\n",
            "なる\tから で と 1\n",
            "なる\tが に 1\n",
            "なる\tは 1\n",
            "なる\tが に は 1\n",
            "なる\tで に は 1\n",
            "なる\tから が て で と は 1\n",
            "なる\tに は も 1\n",
            "なる\tて として に は 1\n",
            "なる\tが で と に は 1\n",
            "なる\tが と にとって は 1\n",
            "なる\tて に は 1\n",
            "なる\tも 1\n",
            "なる\tで は 1\n",
            "------------与える----------------\n",
            "与える\tが に 1\n",
            "与える\tが など に 1\n",
            "与える\tに は を 1\n"
          ]
        }
      ],
      "source": [
        "\n",
        "#45\n",
        "particles = []\n",
        "for sentence in sentences:\n",
        "    for chunk in sentence:\n",
        "        for morph in chunk.morphs:\n",
        "            if morph.pos == '動詞':\n",
        "                if len(chunk.srcs):\n",
        "                    modifier = []\n",
        "                    for src in chunk.srcs:\n",
        "                        modifier += [x.base for x in sentence[src].morphs if x.pos == '助詞']\n",
        "                    if len(modifier):\n",
        "                        modifier = sorted(list(set(modifier))) # 辞書順で並べ替え&重複削除\n",
        "                        particles.append(morph.base + '\\t' + ' '.join(modifier))\n",
        "                break\n",
        "\n",
        "with open('./input/section5/ans45.txt', 'w', encoding='utf-8') as f:\n",
        "    f.write('\\n'.join(particles))\n",
        "\n",
        "# コーパス中で頻出する述語と格パターンの組み合わせ\n",
        "from collections import Counter\n",
        "c = Counter(particles)\n",
        "for k, v in c.most_common(20):\n",
        "    print(k, v)\n",
        "\n",
        "# 「行う」「なる」「与える」という動詞の格パターン\n",
        "print('------------行う----------------')\n",
        "for k, v in c.most_common():\n",
        "    if k.startswith('行う'):\n",
        "        print(k, v)\n",
        "print('------------なる----------------')\n",
        "for k, v in c.most_common():\n",
        "    if k.startswith('なる'):\n",
        "        print(k, v)\n",
        "print('------------与える----------------')\n",
        "for k, v in c.most_common():\n",
        "    if k.startswith('与える'):\n",
        "        print(k, v)"
      ]
    },
    {
      "cell_type": "code",
      "execution_count": null,
      "metadata": {
        "colab": {
          "base_uri": "https://localhost:8080/"
        },
        "id": "ailcvhZ6BUBv",
        "outputId": "9e39f039-0688-4760-ef41-cbaee70fd79b"
      },
      "outputs": [
        {
          "name": "stdout",
          "output_type": "stream",
          "text": [
            "用いる\tを\t道具を\n",
            "する\tて を\t用いて 知能を\n",
            "指す\tを\t一分野を\n",
            "代わる\tに を\t人間に 知的行動を\n",
            "行う\tて に\t代わって コンピューターに\n",
            "する\tと も\t研究分野と も\n"
          ]
        }
      ],
      "source": [
        "#46\n",
        "def get_info(sentence):\n",
        "    particles = []\n",
        "    for chunk in sentence:\n",
        "        for morph in chunk.morphs:\n",
        "            if morph.pos == '動詞':\n",
        "                if len(chunk.srcs):\n",
        "                    modifier = []\n",
        "                    mod_dic = {}\n",
        "                    particle = ''\n",
        "                    for src in chunk.srcs:\n",
        "                        for x in sentence[src].morphs:\n",
        "                            if x.pos != '記号':\n",
        "                                particle += x.surface\n",
        "                            if x.pos == '助詞':\n",
        "                                modifier.append(x.surface)\n",
        "                                mod_dic[x.surface] = particle\n",
        "                                particle = ''\n",
        "                        particle = ''\n",
        "                    if len(modifier):\n",
        "                        modifier = sorted(list(set(modifier)))\n",
        "                        particles.append(morph.base + '\\t' + ' '.join(modifier) + '\\t' + ' '.join([mod_dic[x] for x in modifier]))\n",
        "                break\n",
        "    return particles\n",
        "\n",
        "particles = get_info(sentences[1])\n",
        "for particle in particles:\n",
        "    print(particle)\n"
      ]
    },
    {
      "cell_type": "code",
      "execution_count": null,
      "metadata": {
        "colab": {
          "base_uri": "https://localhost:8080/"
        },
        "id": "FacAxXiNEAWd",
        "outputId": "6e3953e3-6c92-41de-dc96-45c127fc07b0"
      },
      "outputs": [
        {
          "name": "stdout",
          "output_type": "stream",
          "text": [
            "行動を代わる\tに\t人間に\n",
            "記述をする\tと\t主体と\n",
            "注目を集める\tが\tサポートベクターマシンが\n",
            "経験を行う\tに を\t元に 学習を\n",
            "-推論統計学習をする\tて で に は を を通して\tなされて ACTRで 元に は ルールを 生成規則を通して\n",
            "活躍敵対生成生成進化を見せる\tて において は\t加えて 技術において 的ネットワークは\n",
            "製作開発を行う\tは\tエイダ・ラブレスは\n",
            "処理を行う\tに により\tWebに ティム・バーナーズリーにより\n",
            "意味をする\tに\tデータに\n",
            "付加処理を行う\tて に\tして コンピュータに\n",
            "研究を進める\tて\t費やして\n",
            "命令をする\tで\t機構で\n",
            "運転をする\tに\t元に\n",
            "特許をする\tが に まで\t日本が に 2018年まで\n",
            "運転をする\tて に\t基づいて 柔軟に\n",
            "注目を集める\tから は\tことから ファジィは\n",
            "制御を用いる\tて も\t受けて 他社も\n",
            "制御をする\tから\t少なさから\n",
            "処理改善を果たす\tが で に\tチームが 画像コンテストで 2012年に\n",
            "研究を続ける\tが て\tジェフホーキンスが 向けて\n",
            "開発接地()をする\tに は\t8月に は\n",
            "注目を集める\tに\t急速に\n",
            "主導投資を行う\tで に\t民間企業で 全世界的に\n",
            "実装探索を行う\tで\t無報酬で\n",
            "推論をする\tて\t経て\n",
            "共同研究を始める\tとも は\tマックスプランク研究所とも Googleは\n",
            "研究を行う\tて\t始めて\n",
            "研究開発をする\tで は\t官民一体で は\n",
            "研究開発をする\tで\t日本で\n",
            "投資をする\tに は まで\tに 韓国は 2022年まで\n",
            "反乱を起こす\tて に対して\t於いて 人間に対して\n",
            "歩行監視を行う\tに まで\t人工知能に 者まで\n",
            "手続きを経る\tを\tウイグル族を\n",
            "プログラム制御をする\tは\tAIは\n",
            "判断を介す\tから\t観点から\n",
            "禁止を求める\tが に は\tヒューマン・ライツ・ウォッチが 4月に は\n",
            "開発競争を行う\tは をめぐって\t米国中国ロシアは 軍事利用をめぐって\n",
            "暴露拒否整合追及を受ける\tて で と とともに は\tされて 性で すると とともに は\n",
            "共同研究をする\tが\tMicrosoftが\n",
            "発表解任をする\tて は\t含まれて Google社員らは\n",
            "要請解散をする\tが で は\t倫理委員会が 理由で Googleは\n",
            "存在を見いだす\tに\tものに\n",
            "話をする\tは\t哲学者は\n",
            "議論を行う\tまで\tこれまで\n"
          ]
        }
      ],
      "source": [
        "#47\n",
        "def get_info_mining(sentence):\n",
        "    particles = []\n",
        "    for chunk in sentence:\n",
        "        predicate = ''\n",
        "        for morph in chunk.morphs:\n",
        "            if morph.pos == '動詞':\n",
        "                if len(chunk.srcs):\n",
        "                    modifier = []\n",
        "                    mod_dic = {}\n",
        "                    particle = ''\n",
        "                    flg2 = 0\n",
        "                    for src in chunk.srcs:\n",
        "                        flg = 0\n",
        "                        for x in sentence[src].morphs:\n",
        "                            if x.pos == '名詞' and x.pos1 == 'サ変接続' and not flg2:\n",
        "                                predicate += x.surface\n",
        "                                flg = 1\n",
        "                                continue\n",
        "                            elif x.pos == '助詞' and x.surface == 'を' and flg == 1 and not flg2:\n",
        "                                predicate += 'を'\n",
        "                                flg = 0\n",
        "                                flg2 = 1\n",
        "                                continue\n",
        "                            elif x.pos != '記号':\n",
        "                                flg = 0\n",
        "                                particle += x.surface\n",
        "                            if x.pos == '助詞':\n",
        "                                flg = 0\n",
        "                                modifier.append(x.surface)\n",
        "                                mod_dic[x.surface] = particle\n",
        "                                particle = ''\n",
        "                            else:\n",
        "                                flg = 0\n",
        "                        particle = ''\n",
        "                    if len(modifier) and flg2:\n",
        "                        modifier = sorted(list(set(modifier)))\n",
        "                        particles.append(predicate + morph.base + '\\t' + ' '.join(modifier) + '\\t' + ' '.join([mod_dic[x] for x in modifier]))\n",
        "                break\n",
        "    return particles\n",
        "\n",
        "for sentence in sentences:\n",
        "    particles = get_info_mining(sentence)\n",
        "    for particle in particles:\n",
        "        print(particle)"
      ]
    },
    {
      "cell_type": "code",
      "execution_count": null,
      "metadata": {
        "colab": {
          "base_uri": "https://localhost:8080/"
        },
        "id": "A3siq326EHXb",
        "outputId": "5930f2ae-0988-4c57-86c2-1eb009e22be9"
      },
      "outputs": [
        {
          "name": "stdout",
          "output_type": "stream",
          "text": [
            "人工知能 -> 語 -> 研究分野とも -> される\n",
            "じんこうちのう -> 語 -> 研究分野とも -> される\n",
            "AI -> エーアイとは -> 語 -> 研究分野とも -> される\n",
            "エーアイとは -> 語 -> 研究分野とも -> される\n",
            "計算 -> という -> 道具を -> 用いて -> 研究する -> 計算機科学 -> の -> 一分野を -> 指す -> 語 -> 研究分野とも -> される\n",
            "概念と -> 道具を -> 用いて -> 研究する -> 計算機科学 -> の -> 一分野を -> 指す -> 語 -> 研究分野とも -> される\n",
            "コンピュータ -> という -> 道具を -> 用いて -> 研究する -> 計算機科学 -> の -> 一分野を -> 指す -> 語 -> 研究分野とも -> される\n",
            "道具を -> 用いて -> 研究する -> 計算機科学 -> の -> 一分野を -> 指す -> 語 -> 研究分野とも -> される\n",
            "知能を -> 研究する -> 計算機科学 -> の -> 一分野を -> 指す -> 語 -> 研究分野とも -> される\n",
            "研究する -> 計算機科学 -> の -> 一分野を -> 指す -> 語 -> 研究分野とも -> される\n",
            "計算機科学 -> の -> 一分野を -> 指す -> 語 -> 研究分野とも -> される\n",
            "一分野を -> 指す -> 語 -> 研究分野とも -> される\n",
            "語 -> 研究分野とも -> される\n",
            "言語の -> 推論 -> 問題解決などの -> 知的行動を -> 代わって -> 行わせる -> 技術または -> 研究分野とも -> される\n",
            "理解や -> 推論 -> 問題解決などの -> 知的行動を -> 代わって -> 行わせる -> 技術または -> 研究分野とも -> される\n",
            "推論 -> 問題解決などの -> 知的行動を -> 代わって -> 行わせる -> 技術または -> 研究分野とも -> される\n",
            "問題解決などの -> 知的行動を -> 代わって -> 行わせる -> 技術または -> 研究分野とも -> される\n",
            "知的行動を -> 代わって -> 行わせる -> 技術または -> 研究分野とも -> される\n",
            "人間に -> 代わって -> 行わせる -> 技術または -> 研究分野とも -> される\n",
            "コンピューターに -> 行わせる -> 技術または -> 研究分野とも -> される\n",
            "技術または -> 研究分野とも -> される\n",
            "計算機 -> コンピュータによる -> 情報処理システムの -> 実現に関する -> 研究分野とも -> される\n",
            "コンピュータによる -> 情報処理システムの -> 実現に関する -> 研究分野とも -> される\n",
            "知的な -> 情報処理システムの -> 実現に関する -> 研究分野とも -> される\n",
            "情報処理システムの -> 実現に関する -> 研究分野とも -> される\n",
            "設計や -> 実現に関する -> 研究分野とも -> される\n",
            "実現に関する -> 研究分野とも -> される\n",
            "研究分野とも -> される\n"
          ]
        }
      ],
      "source": [
        "#48\n",
        "def get_path(sentence):\n",
        "    for chunk in sentence:\n",
        "        modifier_pos = [x.pos for x in chunk.morphs]\n",
        "        if '名詞' in modifier_pos and chunk.dst != -1:\n",
        "            path = [''.join([x.surface if x.pos != '記号' else '' for x in chunk.morphs])]\n",
        "            nxt = chunk.dst\n",
        "            while nxt != -1:\n",
        "                path.append(''.join([x.surface if x.pos != '記号' else '' for x in sentence[nxt].morphs]))\n",
        "                nxt = sentence[nxt].dst\n",
        "            print(' -> '.join(path))\n",
        "\n",
        "get_path(sentences[1])"
      ]
    },
    {
      "cell_type": "code",
      "execution_count": null,
      "metadata": {
        "colab": {
          "base_uri": "https://localhost:8080/"
        },
        "id": "dloY_WusEHbz",
        "outputId": "1061a730-3c35-4944-a29c-6c032bc0f664"
      },
      "outputs": [
        {
          "name": "stdout",
          "output_type": "stream",
          "text": [
            "0 『日本大百科全書(ニッポニカ)』の\n",
            "1 解説で、\n",
            "2 情報工学者・通信工学者の\n",
            "3 佐藤理史は\n",
            "4 次のように\n",
            "5 述べている。\n",
            "---------------------------\n",
            "名詞を含む文節番号:  [0, 1, 2, 3, 4]\n"
          ]
        }
      ],
      "source": [
        "#49\n",
        "sentence = sentences[2]\n",
        "nouns = []\n",
        "# 名詞を含むchunkを抽出\n",
        "for i, chunk in enumerate(sentence):\n",
        "    print(i, ''.join([morph.surface for morph in chunk.morphs]))\n",
        "    if '名詞' in [morph.pos for morph in chunk.morphs]:\n",
        "        nouns.append(i)\n",
        "print('---------------------------')\n",
        "print('名詞を含む文節番号: ', nouns)"
      ]
    },
    {
      "cell_type": "code",
      "execution_count": null,
      "metadata": {
        "colab": {
          "base_uri": "https://localhost:8080/"
        },
        "id": "4s4PekaKEX6f",
        "outputId": "dabcde05-d5cc-4ac8-aec1-86f3c349f09e"
      },
      "outputs": [
        {
          "name": "stdout",
          "output_type": "stream",
          "text": [
            "[(0, 1), (0, 2), (0, 3), (0, 4), (1, 2), (1, 3), (1, 4), (2, 3), (2, 4), (3, 4)]\n"
          ]
        }
      ],
      "source": [
        "from itertools import combinations\n",
        "\n",
        "print([x for x in combinations(nouns, 2)])"
      ]
    },
    {
      "cell_type": "code",
      "execution_count": null,
      "metadata": {
        "colab": {
          "base_uri": "https://localhost:8080/"
        },
        "id": "tZmhxce4ErOa",
        "outputId": "522c5b71-140f-45ca-9066-aaa8463279cb"
      },
      "outputs": [
        {
          "name": "stdout",
          "output_type": "stream",
          "text": [
            "Xの -> Yで\n",
            "Xの -> 解説で | Yの -> 佐藤理史は | 述べている\n",
            "Xの -> 解説で | Yは | 述べている\n",
            "Xの -> 解説で | Yのに | 述べている\n",
            "Xで | Yの -> 佐藤理史は | 述べている\n",
            "Xで | Yは | 述べている\n",
            "Xで | Yのに | 述べている\n",
            "Xの -> Yは\n",
            "Xの -> 佐藤理史は | Yのに | 述べている\n",
            "Xは | Yのに | 述べている\n"
          ]
        }
      ],
      "source": [
        "from itertools import combinations\n",
        "\n",
        "def get_path_to_root(now, sentence):\n",
        "    # 文節番号nowから根までのパスを求める\n",
        "    # 出力は文節番号のリスト\n",
        "    chunk = sentence[now]\n",
        "    path = []\n",
        "    if chunk.dst != -1:\n",
        "        path.append(now)\n",
        "        nxt = chunk.dst\n",
        "        while nxt != -1:\n",
        "            path.append(nxt)\n",
        "            nxt = sentence[nxt].dst\n",
        "    return path\n",
        "\n",
        "\n",
        "sentence = sentences[2]\n",
        "nouns = []\n",
        "# 名詞を含むchunkを抽出\n",
        "for i, chunk in enumerate(sentence):\n",
        "    if '名詞' in [morph.pos for morph in chunk.morphs]:\n",
        "        nouns.append(i)\n",
        "\n",
        "# 名詞を含むchunkの全ペアを作成\n",
        "for i, j in combinations(nouns, 2):\n",
        "    pathx = get_path_to_root(i, sentence) # Xから根までのパス\n",
        "    pathy = get_path_to_root(j, sentence) # Yから根までのパス\n",
        "    path1 = []\n",
        "    path2 = []\n",
        "    path3 = []\n",
        "    flg = 0\n",
        "    if j in pathx:\n",
        "        # パターン１\n",
        "        for k in pathx:\n",
        "            if k == i:\n",
        "                morphs = 'X' + ''.join([x.surface if x.pos == '助詞' else '' for x in sentence[k].morphs])\n",
        "                path1.append(''.join(morphs))\n",
        "            elif k != j:\n",
        "                morphs = ''.join([x.surface if x.pos != '記号' else '' for x in sentence[k].morphs])\n",
        "                path1.append(''.join(morphs))\n",
        "            else:\n",
        "                morphs = 'Y' + ''.join([x.surface if x.pos == '助詞' else '' for x in sentence[k].morphs])\n",
        "                path1.append(''.join(morphs))\n",
        "                break\n",
        "        print(' -> '.join(path1))\n",
        "    else:\n",
        "        # パターン2\n",
        "        for k in pathx:\n",
        "            if k == i:\n",
        "                morphs = 'X' + ''.join([x.surface if x.pos == '助詞' else '' for x in sentence[k].morphs])\n",
        "                path1.append(''.join(morphs))\n",
        "            elif k not in pathy:\n",
        "                morphs = ''.join([x.surface if x.pos != '記号' else '' for x in sentence[k].morphs])\n",
        "                path1.append(''.join(morphs))\n",
        "            else:\n",
        "                break\n",
        "        for l in pathy:\n",
        "            if l == j:\n",
        "                morphs = 'Y' + ''.join([x.surface if x.pos == '助詞' else '' for x in sentence[l].morphs])\n",
        "                path2.append(''.join(morphs))\n",
        "            elif l != k:\n",
        "                morphs = ''.join([x.surface if x.pos != '記号' else '' for x in sentence[l].morphs])\n",
        "                path2.append(''.join(morphs))\n",
        "            elif l == k or flg:\n",
        "                flg = 1\n",
        "                morphs = ''.join([x.surface if x.pos != '記号' else '' for x in sentence[l].morphs])\n",
        "                path3.append(''.join(morphs))\n",
        "        print(' -> '.join(path1) + ' | ' + ' -> '.join(path2) + ' | ' + ' -> '.join(path3))\n"
      ]
    },
    {
      "cell_type": "code",
      "execution_count": null,
      "metadata": {
        "id": "yDZc02EzEvji"
      },
      "outputs": [],
      "source": []
    }
  ],
  "metadata": {
    "colab": {
      "provenance": []
    },
    "kernelspec": {
      "display_name": "Python 3",
      "name": "python3"
    },
    "language_info": {
      "name": "python"
    }
  },
  "nbformat": 4,
  "nbformat_minor": 0
}
