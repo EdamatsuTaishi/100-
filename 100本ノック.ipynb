{
  "nbformat": 4,
  "nbformat_minor": 0,
  "metadata": {
    "colab": {
      "provenance": []
    },
    "kernelspec": {
      "name": "python3",
      "display_name": "Python 3"
    },
    "language_info": {
      "name": "python"
    }
  },
  "cells": [
    {
      "cell_type": "code",
      "execution_count": null,
      "metadata": {
        "id": "Io64NfbN82WV",
        "colab": {
          "base_uri": "https://localhost:8080/"
        },
        "outputId": "bb54916e-b711-4612-aeba-87822c242ee1"
      },
      "outputs": [
        {
          "output_type": "stream",
          "name": "stdout",
          "text": [
            "desserts\n"
          ]
        }
      ],
      "source": [
        "#1-0\n",
        "a =\"stressed\"\n",
        "print(a[::-1])"
      ]
    },
    {
      "cell_type": "code",
      "source": [
        "#1-1\n",
        "a=\"パタトクカシーー\"\n",
        "print(a[::2])"
      ],
      "metadata": {
        "colab": {
          "base_uri": "https://localhost:8080/"
        },
        "id": "67twN3qk9OUY",
        "outputId": "c68b7565-6384-4da8-85f1-9d65a8f97c48"
      },
      "execution_count": null,
      "outputs": [
        {
          "output_type": "stream",
          "name": "stdout",
          "text": [
            "パトカー\n"
          ]
        }
      ]
    },
    {
      "cell_type": "code",
      "source": [
        "#1-2\n",
        "a=\"パトカー\"\n",
        "b=\"タクシー\"\n",
        "c=\"\".join(a+b for a,b in zip(a,b))\n",
        "print(c)"
      ],
      "metadata": {
        "colab": {
          "base_uri": "https://localhost:8080/"
        },
        "id": "njKcZy-y-hYU",
        "outputId": "99ccf5c5-c86c-4996-bb84-0bc5da4f365e"
      },
      "execution_count": null,
      "outputs": [
        {
          "output_type": "stream",
          "name": "stdout",
          "text": [
            "パタトクカシーー\n"
          ]
        }
      ]
    },
    {
      "cell_type": "code",
      "source": [
        "#1-3\n",
        "sentence = \"Now I need a drink, alcoholic of course, after the heavy lectures involving quantum mechanics.\"\n",
        "\n",
        "\n",
        "cleaned_words = [word.strip(\",.\") for word in sentence.split()]\n",
        "\n",
        "word_lengths = [len(word) for word in cleaned_words]\n",
        "\n",
        "print(word_lengths)\n",
        "\n"
      ],
      "metadata": {
        "id": "kXBDoAkXDpun",
        "colab": {
          "base_uri": "https://localhost:8080/"
        },
        "outputId": "0e5504ff-9163-4e54-903d-c6faa08b914b"
      },
      "execution_count": null,
      "outputs": [
        {
          "output_type": "stream",
          "name": "stdout",
          "text": [
            "[3, 1, 4, 1, 5, 9, 2, 6, 5, 3, 5, 8, 9, 7, 9]\n"
          ]
        }
      ]
    },
    {
      "cell_type": "code",
      "source": [
        "#1-4\n",
        "str=\"Hi He Lied Because Boron Could Not Oxidize Fluorine. New Nations Might Also Sign Peace Security Clause. Arthur King Can.\"\n",
        "\n",
        "word = [word.strip(\",.\") for word in str.split()]\n",
        "print(word)\n",
        "\n",
        "num =[1,5,6,77,8,9,15,16,18]\n",
        "\n",
        "\n",
        "word_dict={}\n",
        "for i, word in enumerate(word,1):\n",
        "  if i in num:\n",
        "    word_dict[i]=word[:1]\n",
        "\n",
        "  else:\n",
        "    word_dict[i] =word[:2]\n",
        "\n",
        "\n",
        "print(word_dict)"
      ],
      "metadata": {
        "id": "1zMMpeZbHkd0",
        "colab": {
          "base_uri": "https://localhost:8080/"
        },
        "outputId": "915c59e5-f49c-43ea-812a-8a73c6953aec"
      },
      "execution_count": null,
      "outputs": [
        {
          "output_type": "stream",
          "name": "stdout",
          "text": [
            "['Hi', 'He', 'Lied', 'Because', 'Boron', 'Could', 'Not', 'Oxidize', 'Fluorine', 'New', 'Nations', 'Might', 'Also', 'Sign', 'Peace', 'Security', 'Clause', 'Arthur', 'King', 'Can']\n",
            "{1: 'H', 2: 'He', 3: 'Li', 4: 'Be', 5: 'B', 6: 'C', 7: 'No', 8: 'O', 9: 'F', 10: 'Ne', 11: 'Na', 12: 'Mi', 13: 'Al', 14: 'Si', 15: 'P', 16: 'S', 17: 'Cl', 18: 'A', 19: 'Ki', 20: 'Ca'}\n"
          ]
        }
      ]
    },
    {
      "cell_type": "code",
      "source": [
        "#1-5\n",
        "def generate_ngram_from_text(text, n, mode=\"word\",):\n",
        "    \"\"\"\n",
        "    テキストからn-gramを生成する関数\n",
        "    :param text: 入力テキスト（文字列）\n",
        "    :param n: n-gramのサイズ\n",
        "    :param mode: \"word\" で単語 n-gram, \"char\" で文字 n-gram\n",
        "    :param include_space: True で空白を含む, False で空白を無視\n",
        "    :return: n-gramのリスト\n",
        "    \"\"\"\n",
        "    if mode == \"word\":\n",
        "        # 単語単位のn-gramを生成\n",
        "        sequence = text.split()\n",
        "    elif mode == \"char\":\n",
        "        # 文字単位のn-gramを生成\n",
        "        sequence = text.replace(\" \", \"\")\n",
        "    else:\n",
        "        raise ValueError(\"modeは 'word' または 'char' を指定してください。\")\n",
        "\n",
        "    # n-gram生成\n",
        "    return [sequence[i:i + n] for i in range(len(sequence) - n + 1)]\n",
        "\n",
        "# 使用例\n",
        "sentence = \"I am an NLPer\"\n",
        "\n",
        "# 単語 bi-gram\n",
        "word_bigrams = generate_ngram_from_text(sentence, n=2, mode=\"word\")\n",
        "print(\"単語 bi-gram:\", word_bigrams)\n",
        "\n",
        "\n",
        "# 文字 bi-gram (空白を無視)\n",
        "char_bigrams_without_space = generate_ngram_from_text(sentence, n=2, mode=\"char\",)\n",
        "print(\"文字 bi-gram (空白を無視):\", char_bigrams_without_space)\n"
      ],
      "metadata": {
        "id": "ocMm_12aM2U2",
        "colab": {
          "base_uri": "https://localhost:8080/"
        },
        "outputId": "2d0a2024-db98-4ec4-9608-739d9e0a665e"
      },
      "execution_count": null,
      "outputs": [
        {
          "output_type": "stream",
          "name": "stdout",
          "text": [
            "単語 bi-gram: [['I', 'am'], ['am', 'an'], ['an', 'NLPer']]\n",
            "文字 bi-gram (空白を無視): ['Ia', 'am', 'ma', 'an', 'nN', 'NL', 'LP', 'Pe', 'er']\n"
          ]
        }
      ]
    },
    {
      "cell_type": "code",
      "source": [
        "from sre_constants import SRE_INFO_PREFIX\n",
        "#1-6\n",
        "str1 ='paraparaparadise'\n",
        "str2 ='paragraph'\n",
        "X = generate_ngram_from_text(str1, n=2, mode=\"char\",)\n",
        "print(\"文字 bi-gram (空白を無視):\", X)\n",
        "\n",
        "Y = generate_ngram_from_text(str2, n=2, mode=\"char\",)\n",
        "print(\"文字 bi-gram (空白を無視):\", Y)\n",
        "\n",
        "\n",
        "\n",
        "X = set(X)\n",
        "Y = set(Y)\n",
        "\n",
        "print(X)\n",
        "print(Y)\n",
        "\n",
        "union = X.union(Y)\n",
        "intersection = X.intersection(Y)\n",
        "difference = X.difference(Y)\n",
        "\n",
        "\n",
        "print('和集合' ,union)\n",
        "print('積集合',intersection)\n",
        "print('差集合', difference)\n",
        "\n",
        "\n",
        "se_in_X = 'se' in X\n",
        "se_in_Y=  'se' in Y\n",
        "\n",
        "print(se_in_X)\n",
        "print(se_in_Y)"
      ],
      "metadata": {
        "colab": {
          "base_uri": "https://localhost:8080/"
        },
        "id": "EiMHWvVWrFHn",
        "outputId": "7bb72ee9-e01c-471c-9253-fa8cfe5a99b2"
      },
      "execution_count": null,
      "outputs": [
        {
          "output_type": "stream",
          "name": "stdout",
          "text": [
            "文字 bi-gram (空白を無視): ['pa', 'ar', 'ra', 'ap', 'pa', 'ar', 'ra', 'ap', 'pa', 'ar', 'ra', 'ad', 'di', 'is', 'se']\n",
            "文字 bi-gram (空白を無視): ['pa', 'ar', 'ra', 'ag', 'gr', 'ra', 'ap', 'ph']\n",
            "{'ad', 'pa', 'se', 'ap', 'di', 'ar', 'ra', 'is'}\n",
            "{'pa', 'ap', 'gr', 'ar', 'ph', 'ra', 'ag'}\n",
            "和集合 {'ad', 'pa', 'se', 'ap', 'di', 'ar', 'gr', 'ph', 'ra', 'ag', 'is'}\n",
            "積集合 {'ap', 'ra', 'pa', 'ar'}\n",
            "差集合 {'ad', 'is', 'di', 'se'}\n",
            "True\n",
            "False\n"
          ]
        }
      ]
    },
    {
      "cell_type": "code",
      "source": [
        "#1-7\n",
        "def time_temperature(x, y, z):\n",
        "\n",
        "    return f\"{x}時の{y}は{z}\"\n",
        "\n",
        "\n",
        "print(time_temperature(12,\"気温\",22.4))\n"
      ],
      "metadata": {
        "colab": {
          "base_uri": "https://localhost:8080/"
        },
        "id": "kh6b9CwXyF-V",
        "outputId": "8c1600d0-a834-4bae-a96b-4d3974d6cb3e"
      },
      "execution_count": null,
      "outputs": [
        {
          "output_type": "stream",
          "name": "stdout",
          "text": [
            "12時の気温は22.4\n"
          ]
        }
      ]
    },
    {
      "cell_type": "code",
      "source": [
        "#1-8\n",
        "def cipher(text):\n",
        "\n",
        "    transformed = [chr(219 - ord(char)) if 'a' <= char <= 'z' else char for char in text]\n",
        "    return ''.join(transformed)\n",
        "\n",
        "# メッセージの暗号化\n",
        "message = \"Autumn nights call for a book marathon! 📚 Starting my challenge with 101 books this season. #ReadingSpree\"\n",
        "encrypted_message = cipher(message)\n",
        "decrypted_message = cipher(encrypted_message)\n",
        "\n",
        "# 結果の出力\n",
        "(encrypted_message, decrypted_message)\n"
      ],
      "metadata": {
        "colab": {
          "base_uri": "https://localhost:8080/"
        },
        "id": "_wgKq7q802l6",
        "outputId": "d6acf332-8af9-4f03-e895-3891e142bbb5"
      },
      "execution_count": null,
      "outputs": [
        {
          "output_type": "execute_result",
          "data": {
            "text/plain": [
              "('Afgfnm mrtsgh xzoo uli z yllp nzizgslm! 📚 Sgzigrmt nb xszoovmtv drgs 101 yllph gsrh hvzhlm. #RvzwrmtSkivv',\n",
              " 'Autumn nights call for a book marathon! 📚 Starting my challenge with 101 books this season. #ReadingSpree')"
            ]
          },
          "metadata": {},
          "execution_count": 25
        }
      ]
    },
    {
      "cell_type": "code",
      "source": [
        "import random\n",
        "\n",
        "def shuffled_words(text):\n",
        "    words = text.split()\n",
        "    scrambled = []\n",
        "    for word in words:\n",
        "        if len(word) > 4:\n",
        "\n",
        "            head, middle, tail = word[0], word[1:-1], word[-1]\n",
        "            middle_list = list(middle)\n",
        "            random.shuffle(middle_list)\n",
        "            shuffled_word = head + ''.join(middle_list) + tail\n",
        "            scrambled.append(shuffled_word)\n",
        "        else:\n",
        "            scrambled.append(word)\n",
        "    return ' '.join(scrambled)\n",
        "\n",
        "# Example sentence\n",
        "input_sentence = \"I couldn't believe that I could actually understand what I was reading : the phenomenal power of the human mind .\"\n",
        "scrambled_sentence = shuffled_words(input_sentence)\n",
        "scrambled_sentence\n"
      ],
      "metadata": {
        "colab": {
          "base_uri": "https://localhost:8080/",
          "height": 35
        },
        "id": "6G8Af1cp2p0Q",
        "outputId": "555c4076-08e0-486d-e09b-cfbe072cb43d"
      },
      "execution_count": null,
      "outputs": [
        {
          "output_type": "execute_result",
          "data": {
            "text/plain": [
              "\"I colu'ndt biveele that I cuold altlaucy unsdertnad what I was rdniaeg : the pnnaeeohml pewor of the huamn mind .\""
            ],
            "application/vnd.google.colaboratory.intrinsic+json": {
              "type": "string"
            }
          },
          "metadata": {},
          "execution_count": 32
        }
      ]
    }
  ]
}